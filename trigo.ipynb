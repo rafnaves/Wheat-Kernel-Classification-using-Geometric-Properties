{
  "nbformat": 4,
  "nbformat_minor": 0,
  "metadata": {
    "colab": {
      "provenance": [],
      "authorship_tag": "ABX9TyNXlB9u7x4WaSfBkba/+DpA"
    },
    "kernelspec": {
      "name": "python3",
      "display_name": "Python 3"
    },
    "language_info": {
      "name": "python"
    }
  },
  "cells": [
    {
      "cell_type": "markdown",
      "source": [
        "# O objetivo dessa tarefa é aprender aplicar vários métodos de classificação sobre os dados de Íris, usando o pacote scikit-learn."
      ],
      "metadata": {
        "id": "neGx0rUtpOCB"
      }
    },
    {
      "cell_type": "markdown",
      "source": [
        " Obtenha os dados de propriedades de sementes de três variedades diferentes de trigo do site OpenML. Os dados possuem 210 instâncias com 8 atributos cada. Analise os argumentos fornecidos, os tipos deles e classes definidas."
      ],
      "metadata": {
        "id": "7TYLcec0o-80"
      }
    },
    {
      "cell_type": "code",
      "source": [
        "from scipy.io import arff\n",
        "\n",
        "# Carregar o arquivo ARFF\n",
        "dados, meta = arff.loadarff('phpPrh7lv.arff')\n",
        "\n",
        "# Converter para um DataFrame do Pandas\n",
        "import pandas as pd\n",
        "\n",
        "df = pd.DataFrame(dados)\n",
        "\n",
        "# Mostrar as primeiras linhas para verificar se os dados foram carregados corretamente\n",
        "print(df.head())\n",
        "\n"
      ],
      "metadata": {
        "colab": {
          "base_uri": "https://localhost:8080/",
          "height": 0
        },
        "id": "XM_zddizmx_z",
        "outputId": "4d3033dc-80fb-4c5f-a7b7-3c42cb9cd94e"
      },
      "execution_count": 17,
      "outputs": [
        {
          "output_type": "stream",
          "name": "stdout",
          "text": [
            "      V1     V2      V3     V4     V5     V6     V7 Class\n",
            "0  15.26  14.84  0.8710  5.763  3.312  2.221  5.220  b'1'\n",
            "1  14.88  14.57  0.8811  5.554  3.333  1.018  4.956  b'1'\n",
            "2  14.29  14.09  0.9050  5.291  3.337  2.699  4.825  b'1'\n",
            "3  13.84  13.94  0.8955  5.324  3.379  2.259  4.805  b'1'\n",
            "4  16.14  14.99  0.9034  5.658  3.562  1.355  5.175  b'1'\n"
          ]
        }
      ]
    },
    {
      "cell_type": "code",
      "source": [
        "# Listar os nomes das colunas\n",
        "print(\"Nomes das colunas:\")\n",
        "print(df.columns)\n"
      ],
      "metadata": {
        "colab": {
          "base_uri": "https://localhost:8080/",
          "height": 0
        },
        "id": "ZUOFtxTon6OW",
        "outputId": "0894274b-eab1-471f-db1e-b8b19e732d9b"
      },
      "execution_count": 19,
      "outputs": [
        {
          "output_type": "stream",
          "name": "stdout",
          "text": [
            "Nomes das colunas:\n",
            "Index(['V1', 'V2', 'V3', 'V4', 'V5', 'V6', 'V7', 'Class'], dtype='object')\n"
          ]
        }
      ]
    },
    {
      "cell_type": "code",
      "source": [
        "# Verificar as classes definidas no conjunto de dados\n",
        "classes_definidas = df['Class'].unique()\n",
        "print(\"\\nClasses definidas:\")\n",
        "print(classes_definidas)\n"
      ],
      "metadata": {
        "colab": {
          "base_uri": "https://localhost:8080/",
          "height": 0
        },
        "id": "jbGsFa3toA8c",
        "outputId": "034e40a5-fc74-4e08-c804-e837ac813ddf"
      },
      "execution_count": 20,
      "outputs": [
        {
          "output_type": "stream",
          "name": "stdout",
          "text": [
            "\n",
            "Classes definidas:\n",
            "[b'1' b'2' b'3']\n"
          ]
        }
      ]
    },
    {
      "cell_type": "code",
      "source": [
        "# Mostrar informações básicas sobre o DataFrame\n",
        "print(\"Informações sobre os dados:\")\n",
        "print(df.info())\n",
        "\n",
        "# Mostrar estatísticas descritivas dos dados numéricos\n",
        "print(\"\\nEstatísticas descritivas dos dados:\")\n",
        "print(df.describe())\n",
        "\n",
        "# Verificar os primeiros registros do DataFrame para entender a estrutura dos dados\n",
        "print(\"\\nPrimeiras linhas do DataFrame:\")\n",
        "print(df.head())\n",
        "\n",
        "# Mostrar os tipos de dados de cada coluna\n",
        "print(\"\\nTipos de dados de cada coluna:\")\n",
        "print(df.dtypes)\n",
        "\n",
        "# Verificar as classes definidas no conjunto de dados\n",
        "classes_definidas = df['Class'].unique()\n",
        "print(\"\\nClasses definidas:\")\n",
        "print(classes_definidas)\n"
      ],
      "metadata": {
        "colab": {
          "base_uri": "https://localhost:8080/",
          "height": 0
        },
        "id": "p_4BMoSrnvp_",
        "outputId": "519d9300-a9f0-4a4b-d4ca-de59c76cbf26"
      },
      "execution_count": 21,
      "outputs": [
        {
          "output_type": "stream",
          "name": "stdout",
          "text": [
            "Informações sobre os dados:\n",
            "<class 'pandas.core.frame.DataFrame'>\n",
            "RangeIndex: 210 entries, 0 to 209\n",
            "Data columns (total 8 columns):\n",
            " #   Column  Non-Null Count  Dtype  \n",
            "---  ------  --------------  -----  \n",
            " 0   V1      210 non-null    float64\n",
            " 1   V2      210 non-null    float64\n",
            " 2   V3      210 non-null    float64\n",
            " 3   V4      210 non-null    float64\n",
            " 4   V5      210 non-null    float64\n",
            " 5   V6      210 non-null    float64\n",
            " 6   V7      210 non-null    float64\n",
            " 7   Class   210 non-null    object \n",
            "dtypes: float64(7), object(1)\n",
            "memory usage: 13.2+ KB\n",
            "None\n",
            "\n",
            "Estatísticas descritivas dos dados:\n",
            "               V1          V2          V3          V4          V5          V6  \\\n",
            "count  210.000000  210.000000  210.000000  210.000000  210.000000  210.000000   \n",
            "mean    14.847524   14.559286    0.870999    5.628533    3.258605    3.700201   \n",
            "std      2.909699    1.305959    0.023629    0.443063    0.377714    1.503557   \n",
            "min     10.590000   12.410000    0.808100    4.899000    2.630000    0.765100   \n",
            "25%     12.270000   13.450000    0.856900    5.262250    2.944000    2.561500   \n",
            "50%     14.355000   14.320000    0.873450    5.523500    3.237000    3.599000   \n",
            "75%     17.305000   15.715000    0.887775    5.979750    3.561750    4.768750   \n",
            "max     21.180000   17.250000    0.918300    6.675000    4.033000    8.456000   \n",
            "\n",
            "               V7  \n",
            "count  210.000000  \n",
            "mean     5.408071  \n",
            "std      0.491480  \n",
            "min      4.519000  \n",
            "25%      5.045000  \n",
            "50%      5.223000  \n",
            "75%      5.877000  \n",
            "max      6.550000  \n",
            "\n",
            "Primeiras linhas do DataFrame:\n",
            "      V1     V2      V3     V4     V5     V6     V7 Class\n",
            "0  15.26  14.84  0.8710  5.763  3.312  2.221  5.220  b'1'\n",
            "1  14.88  14.57  0.8811  5.554  3.333  1.018  4.956  b'1'\n",
            "2  14.29  14.09  0.9050  5.291  3.337  2.699  4.825  b'1'\n",
            "3  13.84  13.94  0.8955  5.324  3.379  2.259  4.805  b'1'\n",
            "4  16.14  14.99  0.9034  5.658  3.562  1.355  5.175  b'1'\n",
            "\n",
            "Tipos de dados de cada coluna:\n",
            "V1       float64\n",
            "V2       float64\n",
            "V3       float64\n",
            "V4       float64\n",
            "V5       float64\n",
            "V6       float64\n",
            "V7       float64\n",
            "Class     object\n",
            "dtype: object\n",
            "\n",
            "Classes definidas:\n",
            "[b'1' b'2' b'3']\n"
          ]
        }
      ]
    },
    {
      "cell_type": "markdown",
      "source": [
        "**Tamanho do conjunto de dados:** Possui 210 entradas e 8 colunas.\n",
        "\n",
        "**Tipos de dados:** A maioria das colunas contém valores numéricos do tipo float64, exceto a coluna 'Class', que parece conter valores de texto (tipo object).\n",
        "\n",
        "**Estatísticas descritivas:** As colunas numéricas (V1 a V7) possuem médias, desvios padrão, valores mínimos, valores máximos e quartis variados, indicando diferentes escalas e distribuições entre elas.\n",
        "\n",
        "**Primeiras linhas do DataFrame:** Apresentam os valores das sete primeiras colunas e a coluna 'Class', que contém as classes identificadas como b'1', b'2' e b'3'."
      ],
      "metadata": {
        "id": "d7VAeAJ4oVJt"
      }
    },
    {
      "cell_type": "markdown",
      "source": [
        "2. Pré-processamento de dados:\n",
        "  - Verifique se todas as instâncias possuem valores, e se for o caso remove instâncias com valores ausentes.\n",
        "  - Realize a normalização de atributos para o mesmo intervalo [0.0, 1.0].\n"
      ],
      "metadata": {
        "id": "tApcMVxpo53S"
      }
    },
    {
      "cell_type": "code",
      "source": [
        "from sklearn.impute import SimpleImputer\n",
        "\n",
        "# Verificar se há valores ausentes por coluna\n",
        "print(\"Valores ausentes por coluna:\")\n",
        "print(df.isnull().sum())\n",
        "\n",
        "# Não há valores ausentes no conjunto de dados\n",
        "# Se houvesse, poderíamos usar um SimpleImputer para lidar com valores ausentes\n",
        "\n",
        "# Separar os atributos e as classes\n",
        "X = df.drop('Class', axis=1)  # Atributos\n",
        "y = df['Class']  # Classes\n",
        "\n"
      ],
      "metadata": {
        "colab": {
          "base_uri": "https://localhost:8080/",
          "height": 0
        },
        "id": "uoTPn9ckpcub",
        "outputId": "bf15d383-2c5b-4a50-b298-db4850075e0e"
      },
      "execution_count": 24,
      "outputs": [
        {
          "output_type": "stream",
          "name": "stdout",
          "text": [
            "Valores ausentes por coluna:\n",
            "V1       0\n",
            "V2       0\n",
            "V3       0\n",
            "V4       0\n",
            "V5       0\n",
            "V6       0\n",
            "V7       0\n",
            "Class    0\n",
            "dtype: int64\n"
          ]
        }
      ]
    },
    {
      "cell_type": "markdown",
      "source": [
        "Parece que não há valores ausentes por instância, já que o número de valores ausentes por instância é zero para todas as entradas e o número de instâncias permanece o mesmo (210) após a remoção de valores ausentes. Isso significa que não precisamos remover nenhuma instância devido a valores ausentes, pois todas as instâncias possuem valores completos.\n",
        "\n",
        "Vamos prosseguir com a normalização dos atributos para o intervalo [0.0, 1.0]:"
      ],
      "metadata": {
        "id": "8UNcSYR-ps7v"
      }
    },
    {
      "cell_type": "code",
      "source": [
        "from sklearn.preprocessing import MinMaxScaler\n",
        "\n",
        "# Realizar a normalização dos atributos\n",
        "scaler = MinMaxScaler()\n",
        "X_normalized = scaler.fit_transform(X)\n",
        "\n",
        "# Criar um novo DataFrame com os atributos normalizados\n",
        "df_normalized = pd.DataFrame(X_normalized, columns=X.columns)\n",
        "\n",
        "# Adicionar a coluna 'Class' ao DataFrame normalizado\n",
        "df_normalized['Class'] = y.values\n",
        "\n",
        "# Mostrar as primeiras linhas do DataFrame normalizado\n",
        "print(\"\\nPrimeiras linhas do DataFrame normalizado:\")\n",
        "print(df_normalized.head())\n"
      ],
      "metadata": {
        "colab": {
          "base_uri": "https://localhost:8080/",
          "height": 0
        },
        "id": "F7hU4Pz0puKM",
        "outputId": "15063e2b-9b89-42e2-91fe-10727f2026d8"
      },
      "execution_count": 25,
      "outputs": [
        {
          "output_type": "stream",
          "name": "stdout",
          "text": [
            "\n",
            "Primeiras linhas do DataFrame normalizado:\n",
            "         V1        V2        V3        V4        V5        V6        V7 Class\n",
            "0  0.440982  0.502066  0.570780  0.486486  0.486101  0.189302  0.345150  b'1'\n",
            "1  0.405099  0.446281  0.662432  0.368806  0.501069  0.032883  0.215165  b'1'\n",
            "2  0.349386  0.347107  0.879310  0.220721  0.503920  0.251453  0.150665  b'1'\n",
            "3  0.306893  0.316116  0.793103  0.239302  0.533856  0.194243  0.140817  b'1'\n",
            "4  0.524079  0.533058  0.864791  0.427365  0.664291  0.076701  0.322994  b'1'\n"
          ]
        }
      ]
    },
    {
      "cell_type": "markdown",
      "source": [
        "As primeiras linhas do DataFrame normalizado df_normalized mostram os atributos padronizados dentro do intervalo [0.0, 1.0]. A última coluna, 'Class', parece não ter sido afetada pela normalização, o que é esperado, pois trata-se das classes originais.\n",
        "\n",
        "Cada linha representa uma instância com os atributos normalizados, enquanto a coluna 'Class' mantém os rótulos originais.\n",
        "\n",
        "Se precisar de mais alguma etapa ou análise específica, estou à disposição para ajudar!"
      ],
      "metadata": {
        "id": "cTA98DFTqPAh"
      }
    },
    {
      "cell_type": "markdown",
      "source": [
        "3. Separe 200 instâncias aleatoriamente como os dados de treino, e últimas 10 como dados de teste."
      ],
      "metadata": {
        "id": "jbyAqRUjrWgk"
      }
    },
    {
      "cell_type": "code",
      "source": [
        "from sklearn.model_selection import train_test_split\n",
        "\n",
        "# Separar 200 instâncias aleatórias como dados de treino e as últimas 10 como dados de teste\n",
        "X_train, X_test, y_train, y_test = train_test_split(X_normalized, y, train_size=200, test_size=10, shuffle=True, random_state=42)\n",
        "\n",
        "# Mostrar os tamanhos dos conjuntos de treino e teste\n",
        "print(\"Tamanho do conjunto de treino:\", len(X_train))\n",
        "print(\"Tamanho do conjunto de teste:\", len(X_test))\n"
      ],
      "metadata": {
        "colab": {
          "base_uri": "https://localhost:8080/",
          "height": 0
        },
        "id": "spPM0awDrYLS",
        "outputId": "7ba8b7b4-815b-406e-d1e5-1fa83d9f7b24"
      },
      "execution_count": 26,
      "outputs": [
        {
          "output_type": "stream",
          "name": "stdout",
          "text": [
            "Tamanho do conjunto de treino: 200\n",
            "Tamanho do conjunto de teste: 10\n"
          ]
        }
      ]
    },
    {
      "cell_type": "markdown",
      "source": [
        "# Método de Árvore de Decisão:"
      ],
      "metadata": {
        "id": "2nR99Fn9rjea"
      }
    },
    {
      "cell_type": "code",
      "source": [
        "print(type(y_train))\n"
      ],
      "metadata": {
        "colab": {
          "base_uri": "https://localhost:8080/",
          "height": 0
        },
        "id": "vErq3COaryak",
        "outputId": "24bd1ce4-783e-4a0a-82e1-56316e9b71f3"
      },
      "execution_count": 28,
      "outputs": [
        {
          "output_type": "stream",
          "name": "stdout",
          "text": [
            "<class 'pandas.core.series.Series'>\n"
          ]
        }
      ]
    },
    {
      "cell_type": "code",
      "source": [
        "y_train = y_train.astype(str)\n"
      ],
      "metadata": {
        "id": "PZmiGewAr99x"
      },
      "execution_count": 29,
      "outputs": []
    },
    {
      "cell_type": "code",
      "source": [
        "# Verificar as classes únicas nos conjuntos de treino e teste\n",
        "print(\"Classes únicas em y_train:\", y_train.unique())\n",
        "print(\"Classes únicas em y_test:\", y_test.unique())\n"
      ],
      "metadata": {
        "colab": {
          "base_uri": "https://localhost:8080/",
          "height": 0
        },
        "id": "3WomXZSRsYJ_",
        "outputId": "9fd4248c-65ee-4bab-f5ba-680f96f4a70e"
      },
      "execution_count": 33,
      "outputs": [
        {
          "output_type": "stream",
          "name": "stdout",
          "text": [
            "Classes únicas em y_train: [\"b'2'\" \"b'3'\" \"b'1'\"]\n",
            "Classes únicas em y_test: [b'1' b'3' b'2']\n"
          ]
        }
      ]
    },
    {
      "cell_type": "code",
      "source": [
        "# Converter os rótulos do conjunto de teste para o mesmo formato das classes no conjunto de treino\n",
        "y_test = y_test.astype(str)\n",
        "\n",
        "# Codificar novamente os rótulos para um formato numérico\n",
        "label_encoder = LabelEncoder()\n",
        "y_train_encoded = label_encoder.fit_transform(y_train)\n",
        "y_test_encoded = label_encoder.transform(y_test)\n",
        "\n",
        "# Treinar o classificador com os rótulos codificados\n",
        "clf_dt.fit(X_train, y_train_encoded)\n",
        "y_pred_encoded = clf_dt.predict(X_test)\n",
        "\n",
        "# Calcular a acurácia usando os rótulos codificados\n",
        "accuracy_dt_encoded = accuracy_score(y_test_encoded, y_pred_encoded)\n",
        "print(\"Acurácia da Árvore de Decisão:\", accuracy_dt_encoded)\n",
        "\n",
        "\n",
        "\n"
      ],
      "metadata": {
        "colab": {
          "base_uri": "https://localhost:8080/",
          "height": 0
        },
        "id": "pKJzwdlirm5g",
        "outputId": "032b7657-e0f5-43bc-af71-a116446a0b80"
      },
      "execution_count": 34,
      "outputs": [
        {
          "output_type": "stream",
          "name": "stdout",
          "text": [
            "Acurácia da Árvore de Decisão: 0.9\n"
          ]
        }
      ]
    },
    {
      "cell_type": "markdown",
      "source": [
        "A acurácia de 90% no modelo de Árvore de Decisão nos dados de teste é um bom sinal. Isso significa que o modelo foi capaz de prever corretamente as classes para a maioria das instâncias no conjunto de teste."
      ],
      "metadata": {
        "id": "H5zhSYJTspCB"
      }
    },
    {
      "cell_type": "markdown",
      "source": [
        "# Metodo Bayesiniado"
      ],
      "metadata": {
        "id": "3KsvqP8mtXLh"
      }
    },
    {
      "cell_type": "code",
      "source": [
        "from sklearn.naive_bayes import GaussianNB\n",
        "\n",
        "# Inicializar e treinar o classificador Bayesiano\n",
        "clf_bayes = GaussianNB()\n",
        "clf_bayes.fit(X_train, y_train_encoded)\n",
        "\n",
        "# Fazer previsões no conjunto de teste\n",
        "y_pred_bayes = clf_bayes.predict(X_test)\n",
        "\n",
        "# Calcular a acurácia do Método Bayesiano\n",
        "accuracy_bayes = accuracy_score(y_test_encoded, y_pred_bayes)\n",
        "print(\"Acurácia do Método Bayesiano:\", accuracy_bayes)\n"
      ],
      "metadata": {
        "colab": {
          "base_uri": "https://localhost:8080/",
          "height": 0
        },
        "id": "zlUW23_YtbEQ",
        "outputId": "d2b5e7db-1c36-4f80-b43e-ea36c08a6da2"
      },
      "execution_count": 35,
      "outputs": [
        {
          "output_type": "stream",
          "name": "stdout",
          "text": [
            "Acurácia do Método Bayesiano: 0.7\n"
          ]
        }
      ]
    },
    {
      "cell_type": "markdown",
      "source": [
        "# Método de Vetores de Suporte (SVM):"
      ],
      "metadata": {
        "id": "PYvQkHVEt1x_"
      }
    },
    {
      "cell_type": "code",
      "source": [
        "from sklearn.svm import SVC\n",
        "\n",
        "# Inicializar e treinar o classificador SVM\n",
        "clf_svm = SVC(kernel='linear', random_state=42)\n",
        "clf_svm.fit(X_train, y_train_encoded)\n",
        "\n",
        "# Fazer previsões no conjunto de teste\n",
        "y_pred_svm = clf_svm.predict(X_test)\n",
        "\n",
        "# Calcular a acurácia do SVM\n",
        "accuracy_svm = accuracy_score(y_test_encoded, y_pred_svm)\n",
        "print(\"Acurácia do SVM:\", accuracy_svm)"
      ],
      "metadata": {
        "colab": {
          "base_uri": "https://localhost:8080/",
          "height": 0
        },
        "id": "P2W3dKBxt3AY",
        "outputId": "7fd7c82f-d050-4827-cba1-832b179177c1"
      },
      "execution_count": 36,
      "outputs": [
        {
          "output_type": "stream",
          "name": "stdout",
          "text": [
            "Acurácia do SVM: 0.8\n"
          ]
        }
      ]
    },
    {
      "cell_type": "markdown",
      "source": [
        "# Previsões para as 10 instâncias de teste:"
      ],
      "metadata": {
        "id": "2rpPMcCIvNXJ"
      }
    },
    {
      "cell_type": "markdown",
      "source": [
        "**Árvore de Decisão:**"
      ],
      "metadata": {
        "id": "gPniabSjvPAW"
      }
    },
    {
      "cell_type": "code",
      "source": [
        "# Previsões usando Árvore de Decisão\n",
        "predictions_dt = clf_dt.predict(X_test)\n",
        "print(\"Previsões da Árvore de Decisão:\", predictions_dt)\n"
      ],
      "metadata": {
        "colab": {
          "base_uri": "https://localhost:8080/",
          "height": 0
        },
        "id": "6SYvEABWvXui",
        "outputId": "ec1d3641-95a5-4db4-cf70-c3054ec53320"
      },
      "execution_count": 37,
      "outputs": [
        {
          "output_type": "stream",
          "name": "stdout",
          "text": [
            "Previsões da Árvore de Decisão: [0 2 1 0 0 2 0 2 0 2]\n"
          ]
        }
      ]
    },
    {
      "cell_type": "markdown",
      "source": [
        "**Método Bayesiano:**"
      ],
      "metadata": {
        "id": "28aMxtxMviIM"
      }
    },
    {
      "cell_type": "code",
      "source": [
        "# Previsões usando Método Bayesiano\n",
        "predictions_bayes = clf_bayes.predict(X_test)\n",
        "print(\"Previsões do Método Bayesiano:\", predictions_bayes)\n"
      ],
      "metadata": {
        "colab": {
          "base_uri": "https://localhost:8080/",
          "height": 0
        },
        "id": "E1cF_46bvmLf",
        "outputId": "71126787-414b-4b8e-ab58-3a1f5b9b9027"
      },
      "execution_count": 38,
      "outputs": [
        {
          "output_type": "stream",
          "name": "stdout",
          "text": [
            "Previsões do Método Bayesiano: [0 2 1 0 2 2 0 2 1 2]\n"
          ]
        }
      ]
    },
    {
      "cell_type": "markdown",
      "source": [
        "**Método de Vetores de Suporte (SVM):**"
      ],
      "metadata": {
        "id": "_YTvdJ32vqF7"
      }
    },
    {
      "cell_type": "code",
      "source": [
        "# Previsões usando SVM\n",
        "predictions_svm = clf_svm.predict(X_test)\n",
        "print(\"Previsões do SVM:\", predictions_svm)\n"
      ],
      "metadata": {
        "colab": {
          "base_uri": "https://localhost:8080/",
          "height": 0
        },
        "id": "gXtnYKLLvu7r",
        "outputId": "c470d720-43de-45ce-fae0-7e2d482631d1"
      },
      "execution_count": 39,
      "outputs": [
        {
          "output_type": "stream",
          "name": "stdout",
          "text": [
            "Previsões do SVM: [0 2 1 0 2 2 0 2 0 2]\n"
          ]
        }
      ]
    },
    {
      "cell_type": "markdown",
      "source": [
        "# Verifique a acurácia de classificação para os três métodos usando as classes fornecidas junto com os dados medida como o número de instâncias com classes corretas dividido por o número de instâncias de teste."
      ],
      "metadata": {
        "id": "DyxiKb3-wSVS"
      }
    },
    {
      "cell_type": "markdown",
      "source": [
        "**Árvore de Decisão:**"
      ],
      "metadata": {
        "id": "dVF5KFt9wiTJ"
      }
    },
    {
      "cell_type": "code",
      "source": [
        "accuracy_dt_test = accuracy_score(y_test_encoded, predictions_dt)\n",
        "print(\"Acurácia da Árvore de Decisão nos dados de teste:\", accuracy_dt_test)\n"
      ],
      "metadata": {
        "colab": {
          "base_uri": "https://localhost:8080/",
          "height": 0
        },
        "id": "fkqDoVaZwmyu",
        "outputId": "01cda627-c3de-4da6-f174-e7566ec18dbf"
      },
      "execution_count": 40,
      "outputs": [
        {
          "output_type": "stream",
          "name": "stdout",
          "text": [
            "Acurácia da Árvore de Decisão nos dados de teste: 0.9\n"
          ]
        }
      ]
    },
    {
      "cell_type": "markdown",
      "source": [
        "**Método Bayesiano:**"
      ],
      "metadata": {
        "id": "HddJJn_2w99W"
      }
    },
    {
      "cell_type": "code",
      "source": [
        "accuracy_bayes_test = accuracy_score(y_test_encoded, predictions_bayes)\n",
        "print(\"Acurácia do Método Bayesiano nos dados de teste:\", accuracy_bayes_test)\n"
      ],
      "metadata": {
        "colab": {
          "base_uri": "https://localhost:8080/",
          "height": 0
        },
        "id": "YQDLSj8mxBiw",
        "outputId": "6bf60ddc-fd0f-40f8-e2f0-a9b5f1eab8b0"
      },
      "execution_count": 41,
      "outputs": [
        {
          "output_type": "stream",
          "name": "stdout",
          "text": [
            "Acurácia do Método Bayesiano nos dados de teste: 0.7\n"
          ]
        }
      ]
    },
    {
      "cell_type": "markdown",
      "source": [
        "**Método de Vetores de Suporte (SVM):**"
      ],
      "metadata": {
        "id": "W3XDOhZFxEBu"
      }
    },
    {
      "cell_type": "code",
      "source": [
        "accuracy_svm_test = accuracy_score(y_test_encoded, predictions_svm)\n",
        "print(\"Acurácia do SVM nos dados de teste:\", accuracy_svm_test)\n"
      ],
      "metadata": {
        "colab": {
          "base_uri": "https://localhost:8080/",
          "height": 0
        },
        "id": "SnD46RlZxG8M",
        "outputId": "1842b0f0-b3be-4e81-b978-bb78626cf33a"
      },
      "execution_count": 42,
      "outputs": [
        {
          "output_type": "stream",
          "name": "stdout",
          "text": [
            "Acurácia do SVM nos dados de teste: 0.8\n"
          ]
        }
      ]
    }
  ]
}